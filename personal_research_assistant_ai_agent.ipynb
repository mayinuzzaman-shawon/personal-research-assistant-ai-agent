{
  "cells": [
    {
      "cell_type": "markdown",
      "metadata": {
        "id": "-Nfv-RbcHE84"
      },
      "source": [
        "You can download the `requirements.txt` for this course from the workspace of this lab. `File --> Open...`"
      ]
    },
    {
      "cell_type": "markdown",
      "metadata": {
        "id": "1KxOkeAwHE89"
      },
      "source": [
        "# L2: Create Agents to Research and Write an Article\n",
        "\n",
        "In this lesson, you will be introduced to the foundational concepts of multi-agent systems and get an overview of the crewAI framework."
      ]
    },
    {
      "cell_type": "markdown",
      "metadata": {
        "id": "qS3uqDWCHE8_"
      },
      "source": [
        "The libraries are already installed in the classroom. If you're running this notebook on your own machine, you can install the following:\n",
        "```Python\n",
        "!pip install crewai==0.28.8 crewai_tools==0.1.6 langchain_community==0.0.29\n",
        "```"
      ]
    },
    {
      "cell_type": "code",
      "execution_count": null,
      "metadata": {
        "height": 64,
        "id": "yB5g-HMlHE8_"
      },
      "outputs": [],
      "source": [
        "# Warning control\n",
        "import warnings\n",
        "warnings.filterwarnings('ignore')"
      ]
    },
    {
      "cell_type": "markdown",
      "metadata": {
        "id": "R4mFQoJVHE9B"
      },
      "source": [
        "- Import from the crewAI libray."
      ]
    },
    {
      "cell_type": "code",
      "execution_count": null,
      "metadata": {
        "height": 30,
        "id": "6PXZ8ph0HE9B"
      },
      "outputs": [],
      "source": [
        "from crewai import Agent, Task, Crew"
      ]
    },
    {
      "cell_type": "markdown",
      "metadata": {
        "id": "RHlU9L_LHE9C"
      },
      "source": [
        "- As a LLM for your agents, you'll be using OpenAI's `gpt-3.5-turbo`.\n",
        "\n",
        "**Optional Note:** crewAI also allow other popular models to be used as a LLM for your Agents. You can see some of the examples at the [bottom of the notebook](#1)."
      ]
    },
    {
      "cell_type": "code",
      "execution_count": null,
      "metadata": {
        "height": 113,
        "id": "lzo-JC8eHE9C"
      },
      "outputs": [],
      "source": [
        "import os\n",
        "from utils import get_openai_api_key\n",
        "\n",
        "openai_api_key = get_openai_api_key()\n",
        "os.environ[\"OPENAI_MODEL_NAME\"] = 'gpt-3.5-turbo'"
      ]
    },
    {
      "cell_type": "markdown",
      "metadata": {
        "id": "-O5EUp8oHE9D"
      },
      "source": [
        "## Creating Agents\n",
        "\n",
        "- Define your Agents, and provide them a `role`, `goal` and `backstory`.\n",
        "- It has been seen that LLMs perform better when they are role playing."
      ]
    },
    {
      "cell_type": "markdown",
      "metadata": {
        "id": "zEZJ_kkDHE9D"
      },
      "source": [
        "### Agent: Planner\n",
        "\n",
        "**Note**: The benefit of using _multiple strings_ :\n",
        "```Python\n",
        "varname = \"line 1 of text\"\n",
        "          \"line 2 of text\"\n",
        "```\n",
        "\n",
        "versus the _triple quote docstring_:\n",
        "```Python\n",
        "varname = \"\"\"line 1 of text\n",
        "             line 2 of text\n",
        "          \"\"\"\n",
        "```\n",
        "is that it can avoid adding those whitespaces and newline characters, making it better formatted to be passed to the LLM."
      ]
    },
    {
      "cell_type": "code",
      "execution_count": null,
      "metadata": {
        "height": 249,
        "id": "1LAs_Z3xHE9E"
      },
      "outputs": [],
      "source": [
        "planner = Agent(\n",
        "    role=\"Content Planner\",\n",
        "    goal=\"Plan engaging and factually accurate content on {topic}\",\n",
        "    backstory=\"You're working on planning a blog article \"\n",
        "              \"about the topic: {topic}.\"\n",
        "              \"You collect information that helps the \"\n",
        "              \"audience learn something \"\n",
        "              \"and make informed decisions. \"\n",
        "              \"Your work is the basis for \"\n",
        "              \"the Content Writer to write an article on this topic.\",\n",
        "    allow_delegation=False,\n",
        "\tverbose=True\n",
        ")"
      ]
    },
    {
      "cell_type": "markdown",
      "metadata": {
        "id": "iotWFimCHE9E"
      },
      "source": [
        "### Agent: Writer"
      ]
    },
    {
      "cell_type": "code",
      "execution_count": null,
      "metadata": {
        "height": 385,
        "id": "q_lAebzHHE9E"
      },
      "outputs": [],
      "source": [
        "writer = Agent(\n",
        "    role=\"Content Writer\",\n",
        "    goal=\"Write insightful and factually accurate \"\n",
        "         \"opinion piece about the topic: {topic}\",\n",
        "    backstory=\"You're working on a writing \"\n",
        "              \"a new opinion piece about the topic: {topic}. \"\n",
        "              \"You base your writing on the work of \"\n",
        "              \"the Content Planner, who provides an outline \"\n",
        "              \"and relevant context about the topic. \"\n",
        "              \"You follow the main objectives and \"\n",
        "              \"direction of the outline, \"\n",
        "              \"as provide by the Content Planner. \"\n",
        "              \"You also provide objective and impartial insights \"\n",
        "              \"and back them up with information \"\n",
        "              \"provide by the Content Planner. \"\n",
        "              \"You acknowledge in your opinion piece \"\n",
        "              \"when your statements are opinions \"\n",
        "              \"as opposed to objective statements.\",\n",
        "    allow_delegation=False,\n",
        "    verbose=True\n",
        ")"
      ]
    },
    {
      "cell_type": "markdown",
      "metadata": {
        "id": "OzsIvvauHE9F"
      },
      "source": [
        "### Agent: Editor"
      ]
    },
    {
      "cell_type": "code",
      "execution_count": null,
      "metadata": {
        "height": 283,
        "id": "mvYiZHw0HE9F"
      },
      "outputs": [],
      "source": [
        "editor = Agent(\n",
        "    role=\"Editor\",\n",
        "    goal=\"Edit a given blog post to align with \"\n",
        "         \"the writing style of the organization. \",\n",
        "    backstory=\"You are an editor who receives a blog post \"\n",
        "              \"from the Content Writer. \"\n",
        "              \"Your goal is to review the blog post \"\n",
        "              \"to ensure that it follows journalistic best practices,\"\n",
        "              \"provides balanced viewpoints \"\n",
        "              \"when providing opinions or assertions, \"\n",
        "              \"and also avoids major controversial topics \"\n",
        "              \"or opinions when possible.\",\n",
        "    allow_delegation=False,\n",
        "    verbose=True\n",
        ")"
      ]
    },
    {
      "cell_type": "markdown",
      "metadata": {
        "id": "LJLnKeILHE9F"
      },
      "source": [
        "## Creating Tasks\n",
        "\n",
        "- Define your Tasks, and provide them a `description`, `expected_output` and `agent`."
      ]
    },
    {
      "cell_type": "markdown",
      "metadata": {
        "id": "9FN_t0z4HE9F"
      },
      "source": [
        "### Task: Plan"
      ]
    },
    {
      "cell_type": "code",
      "execution_count": null,
      "metadata": {
        "height": 283,
        "id": "IJuc3w_hHE9F"
      },
      "outputs": [],
      "source": [
        "plan = Task(\n",
        "    description=(\n",
        "        \"1. Prioritize the latest trends, key players, \"\n",
        "            \"and noteworthy news on {topic}.\\n\"\n",
        "        \"2. Identify the target audience, considering \"\n",
        "            \"their interests and pain points.\\n\"\n",
        "        \"3. Develop a detailed content outline including \"\n",
        "            \"an introduction, key points, and a call to action.\\n\"\n",
        "        \"4. Include SEO keywords and relevant data or sources.\"\n",
        "    ),\n",
        "    expected_output=\"A comprehensive content plan document \"\n",
        "        \"with an outline, audience analysis, \"\n",
        "        \"SEO keywords, and resources.\",\n",
        "    agent=planner,\n",
        ")"
      ]
    },
    {
      "cell_type": "markdown",
      "metadata": {
        "id": "BJVk6GMrHE9F"
      },
      "source": [
        "### Task: Write"
      ]
    },
    {
      "cell_type": "code",
      "execution_count": null,
      "metadata": {
        "height": 334,
        "id": "CiB9ts5hHE9G"
      },
      "outputs": [],
      "source": [
        "write = Task(\n",
        "    description=(\n",
        "        \"1. Use the content plan to craft a compelling \"\n",
        "            \"blog post on {topic}.\\n\"\n",
        "        \"2. Incorporate SEO keywords naturally.\\n\"\n",
        "\t\t\"3. Sections/Subtitles are properly named \"\n",
        "            \"in an engaging manner.\\n\"\n",
        "        \"4. Ensure the post is structured with an \"\n",
        "            \"engaging introduction, insightful body, \"\n",
        "            \"and a summarizing conclusion.\\n\"\n",
        "        \"5. Proofread for grammatical errors and \"\n",
        "            \"alignment with the brand's voice.\\n\"\n",
        "    ),\n",
        "    expected_output=\"A well-written blog post \"\n",
        "        \"in markdown format, ready for publication, \"\n",
        "        \"each section should have 2 or 3 paragraphs.\",\n",
        "    agent=writer,\n",
        ")"
      ]
    },
    {
      "cell_type": "markdown",
      "metadata": {
        "id": "7BAw94WMHE9G"
      },
      "source": [
        "### Task: Edit"
      ]
    },
    {
      "cell_type": "code",
      "execution_count": null,
      "metadata": {
        "height": 181,
        "id": "jphQI6vcHE9G"
      },
      "outputs": [],
      "source": [
        "edit = Task(\n",
        "    description=(\"Proofread the given blog post for \"\n",
        "                 \"grammatical errors and \"\n",
        "                 \"alignment with the brand's voice.\"),\n",
        "    expected_output=\"A well-written blog post in markdown format, \"\n",
        "                    \"ready for publication, \"\n",
        "                    \"each section should have 2 or 3 paragraphs.\",\n",
        "    agent=editor\n",
        ")"
      ]
    },
    {
      "cell_type": "markdown",
      "metadata": {
        "id": "dm1SEr1qHE9G"
      },
      "source": [
        "## Creating the Crew\n",
        "\n",
        "- Create your crew of Agents\n",
        "- Pass the tasks to be performed by those agents.\n",
        "    - **Note**: *For this simple example*, the tasks will be performed sequentially (i.e they are dependent on each other), so the _order_ of the task in the list _matters_.\n",
        "- `verbose=2` allows you to see all the logs of the execution."
      ]
    },
    {
      "cell_type": "code",
      "execution_count": null,
      "metadata": {
        "height": 98,
        "id": "fvFBcc0kHE9G"
      },
      "outputs": [],
      "source": [
        "crew = Crew(\n",
        "    agents=[planner, writer, editor],\n",
        "    tasks=[plan, write, edit],\n",
        "    verbose=2\n",
        ")"
      ]
    },
    {
      "cell_type": "markdown",
      "metadata": {
        "id": "Bv0DvmJ3HE9G"
      },
      "source": [
        "## Running the Crew"
      ]
    },
    {
      "cell_type": "markdown",
      "metadata": {
        "id": "t9-cr-X-HE9G"
      },
      "source": [
        "**Note**: LLMs can provide different outputs for they same input, so what you get might be different than what you see in the video."
      ]
    },
    {
      "cell_type": "code",
      "execution_count": null,
      "metadata": {
        "height": 45,
        "id": "uGFUsvojHE9G"
      },
      "outputs": [],
      "source": [
        "result = crew.kickoff(inputs={\"topic\": \"Artificial Intelligence\"})"
      ]
    },
    {
      "cell_type": "markdown",
      "metadata": {
        "id": "JRU2LZ6CHE9H"
      },
      "source": [
        "- Display the results of your execution as markdown in the notebook."
      ]
    },
    {
      "cell_type": "code",
      "execution_count": null,
      "metadata": {
        "height": 47,
        "id": "yixTDmQ6HE9H"
      },
      "outputs": [],
      "source": [
        "from IPython.display import Markdown\n",
        "Markdown(result)"
      ]
    },
    {
      "cell_type": "markdown",
      "metadata": {
        "id": "AEDys_qhHE9H"
      },
      "source": [
        "## Try it Yourself\n",
        "\n",
        "- Pass in a topic of your choice and see what the agents come up with!"
      ]
    },
    {
      "cell_type": "code",
      "execution_count": null,
      "metadata": {
        "height": 62,
        "id": "85e4-_meHE9H"
      },
      "outputs": [],
      "source": [
        "topic = \"YOUR TOPIC HERE\"\n",
        "result = crew.kickoff(inputs={\"topic\": topic})"
      ]
    },
    {
      "cell_type": "code",
      "execution_count": null,
      "metadata": {
        "height": 30,
        "id": "-sS7gItyHE9H"
      },
      "outputs": [],
      "source": [
        "Markdown(result)"
      ]
    },
    {
      "cell_type": "markdown",
      "metadata": {
        "id": "0yh5RmbjHE9H"
      },
      "source": [
        "<a name='1'></a>\n",
        " ## Other Popular Models as LLM for your Agents"
      ]
    },
    {
      "cell_type": "markdown",
      "metadata": {
        "id": "6Mn5RPpoHE9H"
      },
      "source": [
        "#### Hugging Face (HuggingFaceHub endpoint)\n",
        "\n",
        "```Python\n",
        "from langchain_community.llms import HuggingFaceHub\n",
        "\n",
        "llm = HuggingFaceHub(\n",
        "    repo_id=\"HuggingFaceH4/zephyr-7b-beta\",\n",
        "    huggingfacehub_api_token=\"<HF_TOKEN_HERE>\",\n",
        "    task=\"text-generation\",\n",
        ")\n",
        "\n",
        "### you will pass \"llm\" to your agent function\n",
        "```"
      ]
    },
    {
      "cell_type": "markdown",
      "metadata": {
        "id": "ye-g9StWHE9I"
      },
      "source": [
        "#### Mistral API\n",
        "\n",
        "```Python\n",
        "OPENAI_API_KEY=your-mistral-api-key\n",
        "OPENAI_API_BASE=https://api.mistral.ai/v1\n",
        "OPENAI_MODEL_NAME=\"mistral-small\"\n",
        "```"
      ]
    },
    {
      "cell_type": "markdown",
      "metadata": {
        "id": "v5PTRDYSHE9I"
      },
      "source": [
        "#### Cohere\n",
        "\n",
        "```Python\n",
        "from langchain_community.chat_models import ChatCohere\n",
        "# Initialize language model\n",
        "os.environ[\"COHERE_API_KEY\"] = \"your-cohere-api-key\"\n",
        "llm = ChatCohere()\n",
        "\n",
        "### you will pass \"llm\" to your agent function\n",
        "```"
      ]
    },
    {
      "cell_type": "markdown",
      "metadata": {
        "id": "LCCuU100HE9I"
      },
      "source": [
        "### For using Llama locally with Ollama and more, checkout the crewAI documentation on [Connecting to any LLM](https://docs.crewai.com/how-to/LLM-Connections/)."
      ]
    },
    {
      "cell_type": "code",
      "execution_count": null,
      "metadata": {
        "height": 30,
        "id": "1XU488ChHE9I"
      },
      "outputs": [],
      "source": []
    },
    {
      "cell_type": "code",
      "execution_count": null,
      "metadata": {
        "height": 30,
        "id": "Kncb8BAXHE9J"
      },
      "outputs": [],
      "source": []
    },
    {
      "cell_type": "code",
      "execution_count": null,
      "metadata": {
        "height": 30,
        "id": "qSBRP2unHE9Q"
      },
      "outputs": [],
      "source": []
    }
  ],
  "metadata": {
    "colab": {
      "gpuType": "T4",
      "provenance": []
    },
    "kernelspec": {
      "display_name": "Python 3 (ipykernel)",
      "language": "python",
      "name": "python3"
    },
    "language_info": {
      "codemirror_mode": {
        "name": "ipython",
        "version": 3
      },
      "file_extension": ".py",
      "mimetype": "text/x-python",
      "name": "python",
      "nbconvert_exporter": "python",
      "pygments_lexer": "ipython3",
      "version": "3.11.9"
    }
  },
  "nbformat": 4,
  "nbformat_minor": 0
}